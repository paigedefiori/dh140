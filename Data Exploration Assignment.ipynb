{
 "cells": [
  {
   "cell_type": "markdown",
   "metadata": {},
   "source": [
    "## Data Exploration of Los Angeles Police Stations \n",
    "With the given data on by the LAPD, I will be exploring where police stations are located in LA. Doing so while running multiple commands to get more comfortable with data exploration features. The end goal, however, is for me to make a map that marks the closest LAPD station and the UCLA campus. Just in case anyone needs LAPD instead of campus police, you never know!"
   ]
  },
  {
   "cell_type": "markdown",
   "metadata": {},
   "source": [
    "First things first, I import the high level geospatial library, `geopandas`."
   ]
  },
  {
   "cell_type": "code",
   "execution_count": null,
   "metadata": {},
   "outputs": [],
   "source": [
    "import geopandas as gpd"
   ]
  },
  {
   "cell_type": "markdown",
   "metadata": {},
   "source": [
    "The next big step is to import data from the LAPD on their police stations in the county."
   ]
  },
  {
   "cell_type": "code",
   "execution_count": null,
   "metadata": {},
   "outputs": [],
   "source": [
    "policeStations = gpd.read_file('data/LAPD_policestation.shp')"
   ]
  },
  {
   "cell_type": "markdown",
   "metadata": {},
   "source": [
    "My first view of this data is to see how many columns and rows it holds, so I know how much data there is for me to work with. I do this with the `.shape` command."
   ]
  },
  {
   "cell_type": "code",
   "execution_count": null,
   "metadata": {},
   "outputs": [],
   "source": [
    "policeStations.shape"
   ]
  },
  {
   "cell_type": "markdown",
   "metadata": {},
   "source": [
    "To see the first five stations on the dataset, I use the `.head()`command."
   ]
  },
  {
   "cell_type": "code",
   "execution_count": null,
   "metadata": {},
   "outputs": [],
   "source": [
    "policeStations.head()"
   ]
  },
  {
   "cell_type": "markdown",
   "metadata": {},
   "source": [
    "And for the last fifve stations, I use the `.tail()` command."
   ]
  },
  {
   "cell_type": "code",
   "execution_count": null,
   "metadata": {
    "scrolled": true
   },
   "outputs": [],
   "source": [
    "policeStations.tail()"
   ]
  },
  {
   "cell_type": "markdown",
   "metadata": {},
   "source": [
    "The `.tail()` command reveals that the data accounts for the 20 LAPD station locations."
   ]
  },
  {
   "cell_type": "markdown",
   "metadata": {},
   "source": [
    "To see the specific features of the 21 stations, I next utilize the `.info()` command."
   ]
  },
  {
   "cell_type": "code",
   "execution_count": null,
   "metadata": {},
   "outputs": [],
   "source": [
    "policeStations.info()"
   ]
  },
  {
   "cell_type": "markdown",
   "metadata": {},
   "source": [
    "This reveals the aspects of the data I can explore and their data types. Moreover, it shows that every station holds the same value (21). \n",
    "\n",
    "**Most** notably, is the `geometry` datatype. Sadly, this is the latitude and longitude location of each station. Which were not given seperately. Therefore, I have to exract those values myself.\n",
    "\n",
    "This was done with help of this beautiful [slack overflow](https://stackoverflow.com/questions/49635436/shapely-point-geometry-in-geopandas-df-to-lat-lon-columns) post."
   ]
  },
  {
   "cell_type": "code",
   "execution_count": null,
   "metadata": {},
   "outputs": [],
   "source": [
    "policeStations['long'] = policeStations['geometry'].x\n",
    "policeStations['lat'] = policeStations['geometry'].y"
   ]
  },
  {
   "cell_type": "markdown",
   "metadata": {},
   "source": [
    "Now when I print the dataset, there should be an added `lat` and `long` columns to the end."
   ]
  },
  {
   "cell_type": "code",
   "execution_count": null,
   "metadata": {},
   "outputs": [],
   "source": [
    "policeStations"
   ]
  },
  {
   "cell_type": "markdown",
   "metadata": {},
   "source": [
    "Successfully done, now the latitude and longitude columns are easily distinguished."
   ]
  },
  {
   "cell_type": "markdown",
   "metadata": {},
   "source": [
    "For this dataset, I want to see where the stations are and their relative location to eachother. Before mapping it out, I want to find out if any of the station happen to be the same location. This is not assumed, as police stations are not supposed to be, however it is Los Angeles and you *never* know. This is done with the `[' '].value_counts()` command."
   ]
  },
  {
   "cell_type": "code",
   "execution_count": null,
   "metadata": {},
   "outputs": [],
   "source": [
    "policeStations['LOCATION'].value_counts()"
   ]
  },
  {
   "cell_type": "markdown",
   "metadata": {},
   "source": [
    "As assumed, every location only has one location listed. It is always good to confirm data!\n",
    "\n",
    "Next, I want to see the plot to view the rough map of LA's police stations. Doing so with the `.plot()` command. "
   ]
  },
  {
   "cell_type": "code",
   "execution_count": null,
   "metadata": {},
   "outputs": [],
   "source": [
    "policeStations.plot()"
   ]
  },
  {
   "cell_type": "markdown",
   "metadata": {},
   "source": [
    "Just off this rough plot, I can see that one station is WAY down there in the count compared to the others somewhat clustered together. I want to find out which this is, initially by creating diffferent colors of the plots."
   ]
  },
  {
   "cell_type": "code",
   "execution_count": null,
   "metadata": {},
   "outputs": [],
   "source": [
    "policeStations.plot(\n",
    "            figsize=(10,10),\n",
    "            column = 'DIVISION',  \n",
    "            legend = True,         \n",
    "            legend_kwds={\n",
    "               'loc': 'upper right',\n",
    "               'bbox_to_anchor':(1.3,1)\n",
    "            }                  \n",
    ") "
   ]
  },
  {
   "cell_type": "markdown",
   "metadata": {},
   "source": [
    "The code above came wtih help from out Python and Metro Juypter book!"
   ]
  },
  {
   "cell_type": "markdown",
   "metadata": {},
   "source": [
    "Now, I want to trim the dataset and isolate the `lat`, `long` and `DIVISION` columns, so it is easier for me to read among the other columns and I can identify the location of the police divison."
   ]
  },
  {
   "cell_type": "code",
   "execution_count": null,
   "metadata": {},
   "outputs": [],
   "source": [
    "desiredColumns = ['DIVISION', 'lat', 'long']\n",
    "\n",
    "policeStations[desiredColumns].head()"
   ]
  },
  {
   "cell_type": "markdown",
   "metadata": {},
   "source": [
    "Since the dataset was already viewed to be in descending order, I used the `.head()` command to save space/time in order to easily identify that the Harbor `DIVISION` is the outliner location base on its small latitude and its plot location on the second plot."
   ]
  },
  {
   "cell_type": "markdown",
   "metadata": {},
   "source": [
    "For aesthetic purposes, I am going to rename the colums so they are not in different cases (UPPER v. lower)."
   ]
  },
  {
   "cell_type": "code",
   "execution_count": null,
   "metadata": {},
   "outputs": [],
   "source": [
    "policeLocations = policeStations[desiredColumns]\n",
    "policeLocations.columns.to_list()"
   ]
  },
  {
   "cell_type": "markdown",
   "metadata": {},
   "source": [
    "This just shows the names as of now, while assigning them to a new variable dataset to work with. Next is the actual renaming process:"
   ]
  },
  {
   "cell_type": "code",
   "execution_count": null,
   "metadata": {},
   "outputs": [],
   "source": [
    "policeLocations.columns = ['division', 'lat', 'long']\n",
    "policeLocations"
   ]
  },
  {
   "cell_type": "markdown",
   "metadata": {},
   "source": [
    "This allows for easier readablity of the data."
   ]
  },
  {
   "cell_type": "markdown",
   "metadata": {},
   "source": [
    "Though it is a smaller dataset, I want to see if there is a LAPD station in Westwood because that's where I live and it's important for college students (asside from campus police of course)."
   ]
  },
  {
   "cell_type": "code",
   "execution_count": null,
   "metadata": {},
   "outputs": [],
   "source": [
    "policeLocations[policeLocations.division == 'WESTWOOD']"
   ]
  },
  {
   "cell_type": "markdown",
   "metadata": {},
   "source": [
    "No luck! There are no LAPD Stations in Westwood but I am sure they is one close enough on Wilshire:"
   ]
  },
  {
   "cell_type": "code",
   "execution_count": null,
   "metadata": {},
   "outputs": [],
   "source": [
    "policeLocations[policeLocations.division == 'WEST LOS ANGELES']"
   ]
  },
  {
   "cell_type": "markdown",
   "metadata": {},
   "source": [
    "There it is! Now I know there is a station pretty close to UCLA in case anyone ever needs it (hopefully not though). \n",
    "\n",
    "Next I will make this station its own variable so I can compare it to UCLA and its respective latitude and longitude coordinates."
   ]
  },
  {
   "cell_type": "code",
   "execution_count": null,
   "metadata": {},
   "outputs": [],
   "source": [
    "westLA = policeLocations[policeLocations.division == 'WEST LOS ANGELES']\n",
    "westLA"
   ]
  },
  {
   "cell_type": "markdown",
   "metadata": {},
   "source": [
    "The coordinates from UCLA are: 34.06999972, -118.439789907. I change  the `wilshireStation` variable to be its own dataframe."
   ]
  },
  {
   "cell_type": "code",
   "execution_count": null,
   "metadata": {},
   "outputs": [],
   "source": [
    "westLA = westLA.reset_index()\n",
    "westLA"
   ]
  },
  {
   "cell_type": "code",
   "execution_count": null,
   "metadata": {},
   "outputs": [],
   "source": [
    "type(westLA)"
   ]
  },
  {
   "cell_type": "markdown",
   "metadata": {},
   "source": [
    "This was to test and make sure that the datatype was in fact changed to a dataframe."
   ]
  },
  {
   "cell_type": "markdown",
   "metadata": {},
   "source": [
    "Next I have to eliminate the `index` column, as I have no need for it when I will be using only 2 locations. Using `.copy()` to insure it is saved seperately so there is no duplicate values."
   ]
  },
  {
   "cell_type": "code",
   "execution_count": null,
   "metadata": {},
   "outputs": [],
   "source": [
    "neededColumns = ['division', 'lat', 'long']\n",
    "westLA = westLA[neededColumns].copy()\n",
    "\n",
    "westLA"
   ]
  },
  {
   "cell_type": "markdown",
   "metadata": {},
   "source": [
    "Now, I add UCLA and its coordinates (recieved off of google) to this new dataframe, achieved by using another helpful [link](https://www.geeksforgeeks.org/how-to-add-one-row-in-an-existing-pandas-dataframe/) with the ` .loc` command. "
   ]
  },
  {
   "cell_type": "code",
   "execution_count": null,
   "metadata": {},
   "outputs": [],
   "source": [
    "westLA.loc[len(westLA.index)] = ['UCLA', 34.06999972,  -118.439789907]  \n",
    "  \n",
    "westLA"
   ]
  },
  {
   "cell_type": "markdown",
   "metadata": {},
   "source": [
    "Now we have a simple, newly made dataframe with Wilshire Police Station and UCLA."
   ]
  },
  {
   "cell_type": "markdown",
   "metadata": {},
   "source": [
    "Let's make it a map so we can visualize how close it is to campus though! First by importing `folium`"
   ]
  },
  {
   "cell_type": "code",
   "execution_count": null,
   "metadata": {},
   "outputs": [],
   "source": [
    "import folium"
   ]
  },
  {
   "cell_type": "markdown",
   "metadata": {},
   "source": [
    "Now I am going to find the mean `lat` and `long` so that I can get a feel for how big the map wil be to fit both markers."
   ]
  },
  {
   "cell_type": "code",
   "execution_count": null,
   "metadata": {},
   "outputs": [],
   "source": [
    "latitude = westLA.lat.mean()\n",
    "latitude"
   ]
  },
  {
   "cell_type": "code",
   "execution_count": null,
   "metadata": {},
   "outputs": [],
   "source": [
    "longitude = westLA.long.mean()\n",
    "longitude"
   ]
  },
  {
   "cell_type": "markdown",
   "metadata": {},
   "source": [
    "I am going to test out the `.map` command to see if the lat and long values are correctly located in LA."
   ]
  },
  {
   "cell_type": "code",
   "execution_count": null,
   "metadata": {},
   "outputs": [],
   "source": [
    "m = folium.Map(location=[latitude, longitude], zoom_start=14)\n",
    "m"
   ]
  },
  {
   "cell_type": "markdown",
   "metadata": {},
   "source": [
    "Now that I can see it is properly in West LA, including Westwood, I will add markers so the West LA police station and UCLA are marked. "
   ]
  },
  {
   "cell_type": "code",
   "execution_count": null,
   "metadata": {},
   "outputs": [],
   "source": [
    "for index, row in westLA.iterrows():\n",
    "      folium.Marker(\n",
    "    [row.lat, row.long], popup=row.division, tooltip=row.division\n",
    ").add_to(m)\n",
    "m"
   ]
  },
  {
   "cell_type": "markdown",
   "metadata": {},
   "source": [
    "Now I am going to make the markers different colors! I will change the UCLA one to green and the police station to red."
   ]
  },
  {
   "cell_type": "code",
   "execution_count": null,
   "metadata": {},
   "outputs": [],
   "source": [
    "westLA['color'] = ''"
   ]
  },
  {
   "cell_type": "code",
   "execution_count": null,
   "metadata": {},
   "outputs": [],
   "source": [
    "westLA.loc[westLA['division'] == 'WEST LOS ANGELES', 'color'] = 'red'\n",
    "westLA.loc[westLA['division'] == 'UCLA', 'color'] = 'green'\n",
    "\n",
    "westLA"
   ]
  },
  {
   "cell_type": "markdown",
   "metadata": {},
   "source": [
    "Now that we know it worked, we can print the map out again. Hopefully with new colored markers!"
   ]
  },
  {
   "cell_type": "code",
   "execution_count": null,
   "metadata": {},
   "outputs": [],
   "source": [
    "# add the stations with color icons\n",
    "for index, row in westLA.iterrows():\n",
    "    tooltip_text = row.division\n",
    "    folium.Marker(\n",
    "        [row.lat,row.long], \n",
    "        popup=row.division, \n",
    "        tooltip=tooltip_text,\n",
    "        icon=folium.Icon(color=row.color)\n",
    "    ).add_to(m)\n",
    "\n",
    "# show the map\n",
    "m"
   ]
  },
  {
   "cell_type": "markdown",
   "metadata": {},
   "source": [
    "Done! Successfully explored the LAPD data while finishing having a map off the closet station to UCLA campus!"
   ]
  }
 ],
 "metadata": {
  "kernelspec": {
   "display_name": "Python 3",
   "language": "python",
   "name": "python3"
  },
  "language_info": {
   "codemirror_mode": {
    "name": "ipython",
    "version": 3
   },
   "file_extension": ".py",
   "mimetype": "text/x-python",
   "name": "python",
   "nbconvert_exporter": "python",
   "pygments_lexer": "ipython3",
   "version": "3.8.5"
  },
  "toc": {
   "base_numbering": 1,
   "nav_menu": {},
   "number_sections": true,
   "sideBar": true,
   "skip_h1_title": false,
   "title_cell": "Table of Contents",
   "title_sidebar": "Contents",
   "toc_cell": false,
   "toc_position": {},
   "toc_section_display": true,
   "toc_window_display": false
  }
 },
 "nbformat": 4,
 "nbformat_minor": 4
}
