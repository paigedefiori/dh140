{
 "cells": [
  {
   "cell_type": "markdown",
   "metadata": {},
   "source": [
    "# CATCH UP - Week 5 Assignment\n",
    "######  Paige DeFiori\n",
    "This notebook is an application of what I have learned thus far in the quarter, along with my own personal research in certain coding aspects, like Plotly. A lot of what is implemented is a redoing past weeks assignments but with datasets that are on COVID and more directed at my partner and I's research questions pertaining to it. This notebook explores COVID datasets and visualizes them in different forms, utlizing mainly .csv files. This is because all meta data I find on COVID is reported and updated by .csv. I did find a geoJSON file, however it is just point averages of the countries, so the use of this file is minimal. \n",
    "The goal of this notebook is to be more comfortable, not only with coding with Python, but more so with data exploration and what files are capable of transforming into. This should be a base line for my partner and I's midterm visualization to be built off of for our final project."
   ]
  },
  {
   "cell_type": "markdown",
   "metadata": {},
   "source": [
    "## Clean the Data"
   ]
  },
  {
   "cell_type": "markdown",
   "metadata": {},
   "source": [
    "First and for most, I need to import all the libaries needed to read datasets and turn them into visualizations:"
   ]
  },
  {
   "cell_type": "code",
   "execution_count": null,
   "metadata": {},
   "outputs": [],
   "source": [
    "# for general data wrangling tasks\n",
    "import pandas as pd\n",
    "\n",
    "# to read and visualize spatial data\n",
    "import geopandas as gpd\n",
    "from geopandas import GeoDataFrame\n",
    "\n",
    "from shapely.geometry import Point\n",
    "\n",
    "# for plotting / figures\n",
    "import matplotlib.pyplot as plt\n",
    "\n",
    "# this allows .csv files to be turned into visualizations (mainly for choropleth maps)\n",
    "import plotly.express as px"
   ]
  },
  {
   "cell_type": "markdown",
   "metadata": {},
   "source": [
    "Since I know the dataset I am importing is *huge* and full of a multitude of variables, I want to see them all so I can decide which are related to the purpose of my project. This is done with `display.max_columns` :"
   ]
  },
  {
   "cell_type": "code",
   "execution_count": null,
   "metadata": {},
   "outputs": [],
   "source": [
    "covidData = pd.read_csv(\"data/coronavirus-data-explorer-2.csv\")\n",
    "# Shows max columns and rows\n",
    "pd.set_option('display.max_columns', None)\n",
    "pd.set_option('display.max_rows', None)\n",
    "covidData.head(10)"
   ]
  },
  {
   "cell_type": "markdown",
   "metadata": {},
   "source": [
    "This dataset was downloaded from [Our World in Data](https://ourworldindata.org/covid-cases), and as you can see,  is updated on a day to day basis. For the purpose of the project for now, I will be focusing on January 2020 to January 2021. Possible adaptations of this time frame are expected."
   ]
  },
  {
   "cell_type": "markdown",
   "metadata": {},
   "source": [
    "Similar to the function above, `.info()` will allow me to see the columns and make `list(covidData)` will place them in a list so it is easier for me to copy and paste what I want to visualize by shrinking the dataset:"
   ]
  },
  {
   "cell_type": "code",
   "execution_count": null,
   "metadata": {},
   "outputs": [],
   "source": [
    "covidData.info()"
   ]
  },
  {
   "cell_type": "code",
   "execution_count": null,
   "metadata": {},
   "outputs": [],
   "source": [
    "list(covidData)"
   ]
  },
  {
   "cell_type": "markdown",
   "metadata": {},
   "source": [
    "Now that all of the COVID variables in this data are clear, I can cut the dataset by isolating the columns I want into their own list, and reeassign the dataframe to be equal to this abbreviated list of statistical varaibles:"
   ]
  },
  {
   "cell_type": "code",
   "execution_count": null,
   "metadata": {},
   "outputs": [],
   "source": [
    "columns_to_keep = [\n",
    "    'iso_code',\n",
    "    'continent', \n",
    "    'location',\n",
    "    'date',\n",
    "    'total_cases',\n",
    "    'total_cases_per_million',\n",
    "    'total_deaths',\n",
    "    'total_deaths_per_million',\n",
    "    'total_vaccinations',\n",
    "    'total_vaccinations_per_hundred',\n",
    "    'stringency_index',\n",
    "    'population',\n",
    "    'gdp_per_capita'\n",
    "]"
   ]
  },
  {
   "cell_type": "code",
   "execution_count": null,
   "metadata": {},
   "outputs": [],
   "source": [
    "covidData = covidData[columns_to_keep]"
   ]
  },
  {
   "cell_type": "markdown",
   "metadata": {},
   "source": [
    "Using `.tail()` as a means of confirming that my dataframe is now reassigned to the desires columns."
   ]
  },
  {
   "cell_type": "code",
   "execution_count": null,
   "metadata": {},
   "outputs": [],
   "source": [
    "covidData.tail(10)"
   ]
  },
  {
   "cell_type": "markdown",
   "metadata": {},
   "source": [
    "Now that the set is cut down, I will rename the columns for aesthetics and reability when the data is transformed into maps and plots. Doing so while simultaneously printing a random sample of 5 to confirm it was completed correctly."
   ]
  },
  {
   "cell_type": "code",
   "execution_count": null,
   "metadata": {},
   "outputs": [],
   "source": [
    "# renaming the columns\n",
    "covidData.columns = [\n",
    "    'ISO',\n",
    "    'Continent', \n",
    "    'Country',\n",
    "    'Date',\n",
    "    'Total Cases',\n",
    "    'Total Cases per Million',\n",
    "    'Total Deaths',\n",
    "    'Total Deaths per Million',\n",
    "    'Total Vaccines',\n",
    "    'Total Vaccines per Hundred',\n",
    "    'Stringency Index',\n",
    "    'Population',\n",
    "    'GDP per Capita']\n",
    "\n",
    "# printing sample\n",
    "covidData.sample(5)"
   ]
  },
  {
   "cell_type": "markdown",
   "metadata": {},
   "source": [
    "I chose to keep certain columns that I have no immediate plans to use, as I may want to develop of these statistical facts later: i.e. the `stringency-index` is a 1-100 scale shows the strictness of countries shudowns on the pandemic, 100 being te strictest. This index could be interesing to work with later on once the basics are covered. "
   ]
  },
  {
   "cell_type": "markdown",
   "metadata": {},
   "source": [
    "I want to see where the most total cases of COVID is occuring, doing to by `.sorting` the data with the ascending command as false so the largest number is first. I do this with a new variable name, that I will only use in this cell:"
   ]
  },
  {
   "cell_type": "code",
   "execution_count": null,
   "metadata": {},
   "outputs": [],
   "source": [
    "covid_sorted = covidData.sort_values(by='Total Cases',ascending = False)\n",
    "covid_sorted.head()"
   ]
  },
  {
   "cell_type": "markdown",
   "metadata": {},
   "source": [
    "By viewing this, I notice a problem that will occur in my visualizations: the data includes the World and Interantional listed as a location where I only want to view the countries' data for mapping. To combat this, I will make a subset of the dataframe that cuts the World location out of it using: \n",
    "<br/> `df[df.COLUMN != 'variable'`"
   ]
  },
  {
   "cell_type": "code",
   "execution_count": null,
   "metadata": {},
   "outputs": [],
   "source": [
    "covidData = covidData[covidData.Country != 'World']\n",
    "covidData = covidData[covidData.Country != 'International']\n",
    "covidData = covidData.sort_values(by='Total Cases',ascending = False)\n",
    "covidData.head()"
   ]
  },
  {
   "cell_type": "markdown",
   "metadata": {},
   "source": [
    "Now we can see that the World/international is no longer a variable of country in the dataframe, making my visualizations on COVID cases just related to countries indiviudally. I am hesistant to sort the data in a specific order, as I dont know how it will affect my mapping just yet, so I am not assigning the sorted dataframes to the original name."
   ]
  },
  {
   "cell_type": "markdown",
   "metadata": {},
   "source": [
    "Now I will make a copy of the preexisting data set, so I can go back and use all the variables provided. For now, `new_covid` is an even more trimmed version of the data so I can isolate deaths, cases and vaccines ONLY."
   ]
  },
  {
   "cell_type": "code",
   "execution_count": null,
   "metadata": {},
   "outputs": [],
   "source": [
    "new_covid = covidData.copy()\n",
    "new_covid.head()"
   ]
  },
  {
   "cell_type": "markdown",
   "metadata": {},
   "source": [
    "Using `.sort_values()` function, will alphabetize the data to look for possible duplicate countries. I do it this way, as deleting rows with Nan values will inaccurately report the variables totals. so I can map totals without adding too many values together:\n",
    "<br/> I used 200 to see the most recent date that all countrries have valid data, as well as resetting the `reset_index()` so it is easier for me to see. "
   ]
  },
  {
   "cell_type": "code",
   "execution_count": null,
   "metadata": {},
   "outputs": [],
   "source": [
    "new_covid = new_covid.sort_values(by='Country', ascending= True)\n",
    "new_covid = new_covid.reset_index()"
   ]
  },
  {
   "cell_type": "code",
   "execution_count": null,
   "metadata": {},
   "outputs": [],
   "source": [
    "new_covid.head(200)"
   ]
  },
  {
   "cell_type": "markdown",
   "metadata": {},
   "source": [
    "There are duplicates, I will have to aggregate these rows, doing so with the `.agg` expression based on the Country column. This will add 0 for Nan values and shouldn't affect totals, as I cut the data off by the head previously to 1-31-21. Doing so to account ofr the most recent covid reported data, as some countries lag behind and up to date data isnt truly up to date."
   ]
  },
  {
   "cell_type": "code",
   "execution_count": null,
   "metadata": {},
   "outputs": [],
   "source": [
    "# this indexes through the country column, adding the values in the desired columns with .agg:\n",
    "new_covid = new_covid.groupby(new_covid['Country']).agg({'Total Cases': 'sum', 'Total Vaccines': 'sum',\n",
    "                                                               'Total Deaths': 'sum','Country': 'max', \n",
    "                                                               'ISO': 'max'})\n",
    "new_covid.head()"
   ]
  },
  {
   "cell_type": "markdown",
   "metadata": {},
   "source": [
    "Now `new_covid` dataframe is 3 variables I want on COVID, most up to date but not BY DAY. Which helps with plotting total values, rather than interactive ones to change over time. Notably, I had to, what appears to, duplicate the country name. However, this is needed as the **bolded** country is an unplottable column. Firther, I need the ISO to properly plot on world maps!\n",
    "<br/> `covidData`, however, is still in place and the same:"
   ]
  },
  {
   "cell_type": "code",
   "execution_count": null,
   "metadata": {},
   "outputs": [],
   "source": [
    "covidData.head(2)"
   ]
  },
  {
   "cell_type": "markdown",
   "metadata": {},
   "source": [
    "Before visualizing, I want to re sort the data to be by case total, rather than alphabetical so plotting is by highest case total. Redundant, I know, but I want to cover all the bases for accurate COVID data:"
   ]
  },
  {
   "cell_type": "code",
   "execution_count": null,
   "metadata": {},
   "outputs": [],
   "source": [
    "new_covid = new_covid.sort_values(by='Total Cases', ascending= False)\n",
    "\n",
    "new_covid.head(195)"
   ]
  },
  {
   "cell_type": "markdown",
   "metadata": {},
   "source": [
    "I used 195 in the head, because that is how many countries there are."
   ]
  },
  {
   "cell_type": "markdown",
   "metadata": {},
   "source": [
    "## Visualize"
   ]
  },
  {
   "cell_type": "markdown",
   "metadata": {},
   "source": [
    "Now I have 2 dataframes to work with:\n",
    "<br/> `covidData` is the full dataframe with all varaiables\n",
    "<br/> `new_covid` is a trimmed version with JUST cases, deaths and vaccines totals and is sorted by MOST total cases."
   ]
  },
  {
   "cell_type": "markdown",
   "metadata": {},
   "source": [
    "Now I want to make my desired bar graph of the trimmed data set of the top 5 countries with the most cases:"
   ]
  },
  {
   "cell_type": "code",
   "execution_count": null,
   "metadata": {},
   "outputs": [],
   "source": [
    "new_covid.head(5).plot.barh( \n",
    "    figsize = (10,7),\n",
    "    colormap = 'tab20c',\n",
    "    width= 1,\n",
    "    title = '5 Countries with Most COVID Cases Compared to Vaccines & Deaths')"
   ]
  },
  {
   "cell_type": "markdown",
   "metadata": {},
   "source": [
    "In a similar comparison, I want to visualize the top 50 countries with the most cases, compared to vaccines and deaths, with a line graph:"
   ]
  },
  {
   "cell_type": "code",
   "execution_count": null,
   "metadata": {},
   "outputs": [],
   "source": [
    "ax = new_covid.head(50).plot.line(\n",
    "    figsize = (8, 8),\n",
    "    legend= True,\n",
    "    title = 'Total Cases Compared to Total Vaccines & Total Deaths')"
   ]
  },
  {
   "cell_type": "markdown",
   "metadata": {},
   "source": [
    "Both of these visuals reveal a GREAT deal to me. The US is no doubt most the most affected nation, in all aspects. However, the interesting part is the distribution of vaccines in nations that appear to not be _as_ affected compared to others (proportionately).\n",
    "\n",
    "Below I will use the `new_covid` dataframe, which again is the totals, to plot the world based on Total cases:"
   ]
  },
  {
   "cell_type": "code",
   "execution_count": null,
   "metadata": {},
   "outputs": [],
   "source": [
    "# making an animated map via plotly express with a .csv file\n",
    "\n",
    "list_countries = new_covid['Country'].unique().tolist()\n",
    "\n",
    "fig = px.choropleth(data_frame = new_covid, \n",
    "                    # ISO is necessary in plotly as it has abuilt in world map based off of ISO codes\n",
    "                    locations = \"ISO\",       \n",
    "                    \n",
    "                    # the column I want to depict the color\n",
    "                    color = \"Total Cases\",\n",
    "                    \n",
    "                    # capped the cases at 26 million, as thats the most by a given country\n",
    "                    range_color=[1,26000000], \n",
    "                    \n",
    "                    # what is shown when hoevered over\n",
    "                    hover_name = \"Country\",\n",
    "                    \n",
    "                    # selects the color for the scale\n",
    "                    color_continuous_scale = 'sunset',\n",
    "                    \n",
    "                    # sets a different view of the world\n",
    "                    projection = \"natural earth\")\n",
    "                   \n",
    "#creating a title\n",
    "fig.update_layout(\n",
    "    title_text='Daily COVID-19 Cases January 2020 - January 2021')\n",
    "fig.show()"
   ]
  },
  {
   "cell_type": "markdown",
   "metadata": {},
   "source": [
    "Similarly, I will creat a map but based on total vaccines rather than cases:"
   ]
  },
  {
   "cell_type": "code",
   "execution_count": null,
   "metadata": {},
   "outputs": [],
   "source": [
    "# making an animated map via plotly express with a .csv file\n",
    "\n",
    "list_countries = new_covid['Country'].unique().tolist()\n",
    "\n",
    "fig = px.choropleth(data_frame = new_covid, \n",
    "                    # ISO is necessary in plotly as it has abuilt in world map based off of ISO codes\n",
    "                    locations = \"ISO\",       \n",
    "                    \n",
    "                    # the column I want to depict the color\n",
    "                    color = \"Total Vaccines\",\n",
    "                    \n",
    "                    # capped the vaccine total at 33 million, as thats the most by a given country\n",
    "                    range_color=[1,33000000], \n",
    "                    \n",
    "                    # what is shown when hoevered over\n",
    "                    hover_name = \"Country\",\n",
    "                    \n",
    "                    # selects the color for the scale\n",
    "                    color_continuous_scale = 'sunset', \n",
    "                    \n",
    "                    # sets a different view of the world\n",
    "                    projection = \"natural earth\")\n",
    "                   \n",
    "#creating a title\n",
    "fig.update_layout(\n",
    "    title_text='Daily COVID-19 Cases January 2020 - January 2021')\n",
    "fig.show()"
   ]
  },
  {
   "cell_type": "markdown",
   "metadata": {},
   "source": [
    "Ideally, I would be able to put these two side by side and compare. Work in progress."
   ]
  },
  {
   "cell_type": "code",
   "execution_count": null,
   "metadata": {},
   "outputs": [],
   "source": [
    "fig = px.scatter_geo(new_covid, locations='ISO', color='Total Cases',\n",
    "                     hover_name= 'Country', size=\"Total Cases\",\n",
    "                     projection=\"natural earth\")\n",
    "#creating a title\n",
    "fig.update_layout(\n",
    "    title_text='Total COVID Cases (January 2021) By Country')\n",
    "fig.show()\n"
   ]
  },
  {
   "cell_type": "markdown",
   "metadata": {},
   "source": [
    "Ideally, I would need to work with the scale of the legend and scaling issues in general."
   ]
  },
  {
   "cell_type": "markdown",
   "metadata": {},
   "source": [
    "Reverting back to the original dataframe, `covidData`, I want to make an animated map with Plotly express that changes by day. \n",
    "<br/>To do so, I will use the `.unique()` command that only keeps 1 of the variables with the name and creates a list of the countries, without repeating one. This is important, as I made this similar note when making the `new_covid` dataframe. However, we can not use that trimmed dataframe because, to make an animated map, I need the repeated countries to show a progression over time."
   ]
  },
  {
   "cell_type": "code",
   "execution_count": null,
   "metadata": {},
   "outputs": [],
   "source": [
    "covidData = covidData.sort_values(by='Date', ascending= True)\n",
    "covidData.head(10)"
   ]
  },
  {
   "cell_type": "markdown",
   "metadata": {},
   "source": [
    "This sorting put the dataframe in order, from oldest to newest. I did this so the animation wouldn't have any possible hiccups in hunting for the order of dates."
   ]
  },
  {
   "cell_type": "markdown",
   "metadata": {},
   "source": [
    "Now is the fun part: making the map and making it animated!\n",
    "[This](https://plotly.github.io/plotly.py-docs/generated/plotly.express.choropleth.html) link is where I got the information on plotly express and the functions that work in the `px.choropleth()` figure:"
   ]
  },
  {
   "cell_type": "code",
   "execution_count": null,
   "metadata": {
    "scrolled": true
   },
   "outputs": [],
   "source": [
    "# making an animated map via plotly express with a .csv file\n",
    "\n",
    "list_countries = covidData['Country'].unique().tolist()\n",
    "\n",
    "fig = px.choropleth(data_frame = covidData, \n",
    "                    # ISO is necessary in plotly in order to depict the map properly\n",
    "                    locations = \"ISO\",       \n",
    "                    color = \"Total Cases\",\n",
    "                    # figure out how this works so the scale is consistent?\n",
    "                    range_color=[1,26000000], \n",
    "                    hover_name = \"Country\",\n",
    "                    # continuous scale as data is changing\n",
    "                    color_continuous_scale = 'sunset',\n",
    "                    animation_frame = \"Date\")\n",
    "fig.update_layout(\n",
    "    title_text='Daily COVID-19 Cases January 2020 - January 2021')\n",
    "fig.show()"
   ]
  },
  {
   "cell_type": "markdown",
   "metadata": {},
   "source": [
    "I love it, but I need to figure out the `range_color` ticks in order to keep the scale not so sliding so there is a more drastic change in color overtime."
   ]
  },
  {
   "cell_type": "markdown",
   "metadata": {},
   "source": [
    "Again, using the `.agg` expression based on the country, I will create a new `test` (in case it doesn't work) and aggregate the values in the desireed columns based on `max` value, so I know I am getting the most recent information (as for now COVID statistics continue to go up). To make it be more clear for cetain visualizations, I will fill Nan values with 0 to not affect future aggregations of the data with `.fillna(0)`."
   ]
  },
  {
   "cell_type": "code",
   "execution_count": null,
   "metadata": {},
   "outputs": [],
   "source": [
    "# creating another copy of the OG dataframe. \n",
    "test = covidData.copy()\n",
    "\n",
    "# trimming the dataframe by column name\n",
    "columns_keeping = ['Continent','Country', 'Population', 'Total Cases', 'GDP per Capita', 'Total Deaths', 'Total Vaccines', 'Date']\n",
    "test = test[columns_keeping]\n",
    "\n",
    "# sorting the valuesin alphabetical order\n",
    "test = test.sort_values(by='Country', ascending= True)\n",
    "\n",
    "# filling Nan values with 0\n",
    "test = test.fillna(0)\n",
    "\n",
    "# this is the magic of .agg \n",
    "test = test.groupby(test['Country']).aggregate({'Continent': 'min',\n",
    "                                                     'Country': 'min',\n",
    "                                                     'Total Cases': 'max',\n",
    "                                                     'Total Vaccines': 'max',\n",
    "                                                     'Total Deaths': 'max',\n",
    "                                                     'GDP per Capita': 'max'})\n",
    "test.head(5)"
   ]
  },
  {
   "cell_type": "markdown",
   "metadata": {},
   "source": [
    "It is now in alphabetical order and the sums of all columns were taken, so they would be most recent totals. I did this because so much sorting was already done with the `new_covid` dataframe, to undo it all would be trival. Its find with me to keep another trimmed copy of the dataframe around to work with!\n",
    "\n",
    "Now I want to see a bar comparing the newly add GDP variable, compared to cases, vaccines, deaths and GDP:"
   ]
  },
  {
   "cell_type": "code",
   "execution_count": null,
   "metadata": {},
   "outputs": [],
   "source": [
    "test = test.sort_values(by='Total Cases', ascending= False)\n",
    "\n",
    "ax = test.head(10).plot.bar(\n",
    "    figsize = (8, 8),\n",
    "    legend= True,\n",
    "    title = 'Total Cases Compared to Total Vaccines & Total Deaths')"
   ]
  },
  {
   "cell_type": "markdown",
   "metadata": {},
   "source": [
    "This is a basic plot, kind of bland and makes me think of elementary school. LETS GET INTO IT!\n",
    "Using plotly express, I can pimp the heck out of this and create a stacked bar graph of COVIDs effect, seperated by continent, to compare their countries to one another, based on the rrespective GDP per capita:"
   ]
  },
  {
   "cell_type": "code",
   "execution_count": null,
   "metadata": {},
   "outputs": [],
   "source": [
    "fig = px.bar(test, \n",
    "             #to make it horizontal\n",
    "             orientation=\"h\", \n",
    "             \n",
    "             # creating the x and y axes\n",
    "             y=\"Continent\", x=\"Total Cases\", \n",
    "             \n",
    "             # I want the color to represent the GDP per capita\n",
    "             color=\"GDP per Capita\",  \n",
    "             \n",
    "             # I want the color to change based on said GDP\n",
    "             color_continuous_scale='Bluered_r', \n",
    "             \n",
    "             # add the country's details via hover\n",
    "             hover_name=\"Country\")\n",
    "\n",
    "# adding a title\n",
    "fig.update_layout(\n",
    "    title_text='Continental COVID-19 Cases compared by GDP per Capita')\n",
    "fig.show()"
   ]
  },
  {
   "cell_type": "markdown",
   "metadata": {},
   "source": [
    "This shows a pretty clear visual of the impact of COVID on which nations. Recall, this `test` dataframe is sorted by total cases, so the largest section of a continent's bar is the most cases based on the x axis. Using a `hover_name` allows all the statics to be seen. I decided to seperate it by continent so the graph wouldnt have to have the same amount of bars as there are countries. However, I think it still shows a clearr image of the pandemic's effects.\n",
    "\n",
    "Now I want to create an animated scatterplot similarly comparing cases, vaccines and GDP by country:"
   ]
  },
  {
   "cell_type": "code",
   "execution_count": null,
   "metadata": {
    "scrolled": true
   },
   "outputs": [],
   "source": [
    "fig = px.scatter( test, \n",
    "    # sets y and x axis variables\n",
    "    y = \"GDP per Capita\",  x = \"Total Cases\",  \n",
    "    \n",
    "    #what the size of the scattered plots will represent\n",
    "    size = \"Total Vaccines\",  \n",
    "    \n",
    "    #what the color will represent and the plots hover info\n",
    "    color = \"Continent\",  \n",
    "    hover_name = \"Country\",  \n",
    "    \n",
    "    # title of the variable each seperate column/chart will represent\n",
    "    facet_col = \"Continent\", \n",
    "    \n",
    "    # size of the largest point cannot go beyond this, helps with scale\n",
    "    size_max = 75,\n",
    "    \n",
    "    # keeps the x axis in range of x varriables given\n",
    "    log_x = True,\n",
    "    #sets size of figure\n",
    "    width= 999, height= 400,\n",
    ") \n",
    "# adding a title\n",
    "fig.update_layout(\n",
    "    title_text='COVID-19 Vaccines compared to Total Cases & GDP per Capita')\n",
    "fig.show()"
   ]
  },
  {
   "cell_type": "markdown",
   "metadata": {},
   "source": [
    "In this scatterplot, the size of the marker represents the total amount of cases a country has. As you can see, or not, Oceana has mere specks as countries compared to the other continents. Moreover, the comparison is of Vaccine distribution and GDP per capita. A correlation between the two is not necessarily perfectly there, however the comparison is shocking. The countries with more vaccines do seem to have a higher GDP per capita than others. The comparison by continent is equally as interesting in this way; look at the size of the North America vs Afria. Its shocking.\n",
    "<br/> Using a stacked histogram, I want to visualize just cases and vaccines:"
   ]
  },
  {
   "cell_type": "code",
   "execution_count": null,
   "metadata": {},
   "outputs": [],
   "source": [
    "fig = px.histogram(test.head(100), x= 'Total Vaccines', y= 'Total Cases', color= 'Country')\n",
    "\n",
    "# adding a title\n",
    "fig.update_layout(\n",
    "    title_text='Top 100 Most Infected countries Compared to COVID Vaccines')\n",
    "fig.show()"
   ]
  },
  {
   "cell_type": "markdown",
   "metadata": {},
   "source": [
    "This shows A LOT about the vaccine is distributed globally. I mean, somethiing is up with China, look at their vaccines (24M) versus their total cases (100k).\n",
    "\n",
    "In the original `covidData` dataframe, there wehre Where 0 is listed, I believe it would most of the time be a Nan value, since I had ot aggreagate the columns to get total of the rows (countries), Nan was replaced by 0."
   ]
  },
  {
   "cell_type": "markdown",
   "metadata": {},
   "source": [
    "## GeoJSON Exploration"
   ]
  },
  {
   "cell_type": "code",
   "execution_count": null,
   "metadata": {},
   "outputs": [],
   "source": [
    "# to download osm data\n",
    "import osmnx as ox\n",
    "\n",
    "# to provide basemaps\n",
    "import contextily as ctx"
   ]
  },
  {
   "cell_type": "markdown",
   "metadata": {},
   "source": [
    "I recently found a geoJSON file on COVID, the only one I could findin fact. So I will import the file and visualize it columns:"
   ]
  },
  {
   "cell_type": "code",
   "execution_count": null,
   "metadata": {},
   "outputs": [],
   "source": [
    "gdf = gpd.read_file('data/global-covid-cases.geojson')\n",
    "gdf.head(5)"
   ]
  },
  {
   "cell_type": "markdown",
   "metadata": {},
   "source": [
    "Not entirely sure what to do with this data set, as it is huge (60MB reported by day) and the only needed item is the geomerty column, because I want to visulize it. So I'll go with it, renaming the columns and confirming it worked:"
   ]
  },
  {
   "cell_type": "code",
   "execution_count": null,
   "metadata": {},
   "outputs": [],
   "source": [
    "gdf.columns = [\n",
    "    'Category',\n",
    "    'Date', \n",
    "    'Country',\n",
    "    'Cases',\n",
    "    'Subzone',\n",
    "    'geometry']\n",
    "\n",
    "# Printing sample\n",
    "gdf.head(5)"
   ]
  },
  {
   "cell_type": "markdown",
   "metadata": {},
   "source": [
    "Further cutting down the columns down a bit for the data I want to use for a map:"
   ]
  },
  {
   "cell_type": "code",
   "execution_count": null,
   "metadata": {},
   "outputs": [],
   "source": [
    "columns_to_keep = ['Country', 'Cases', 'Date', 'geometry']\n",
    "gdf = gdf[columns_to_keep]\n",
    "\n",
    "# sorting by most up to date which is Jan 29th 2021\n",
    "gdf = gdf.sort_values(by='Date', ascending= False)\n",
    "gdf.head()"
   ]
  },
  {
   "cell_type": "markdown",
   "metadata": {},
   "source": [
    "The date not being the 31st isnt ideal, as it isnt as accurate and also doesn't align with my csv files data. But I assume, if I go an redownload them both, they will be of similar dates. Again, this is more so for exploration a this point!\n",
    "\n",
    "<br/> By having the dataframe in decending order by date, the top 195 (give or take based on up to date-ness) rows should be each countries' most recent total. I will use the `.agg` function again to sum the case totals:"
   ]
  },
  {
   "cell_type": "code",
   "execution_count": null,
   "metadata": {},
   "outputs": [],
   "source": [
    "gdf_new = gdf.groupby(gdf['Country']).aggregate({'Cases': 'sum', 'Date': 'max', 'geometry': 'first'})\n",
    "gdf.head()"
   ]
  },
  {
   "cell_type": "markdown",
   "metadata": {},
   "source": [
    "Importing a generic map of the world for a base:"
   ]
  },
  {
   "cell_type": "code",
   "execution_count": null,
   "metadata": {},
   "outputs": [],
   "source": [
    "world = gpd.read_file(gpd.datasets.get_path('naturalearth_lowres'))"
   ]
  },
  {
   "cell_type": "markdown",
   "metadata": {},
   "source": [
    "Plotting the world:"
   ]
  },
  {
   "cell_type": "code",
   "execution_count": null,
   "metadata": {},
   "outputs": [],
   "source": [
    "base = world.plot(figsize=(20,12),color='white', edgecolor='black')"
   ]
  },
  {
   "cell_type": "markdown",
   "metadata": {},
   "source": [
    "Plotting the dataframe points:"
   ]
  },
  {
   "cell_type": "code",
   "execution_count": null,
   "metadata": {},
   "outputs": [],
   "source": [
    "gdf.plot(figsize=(20,12),color='red')"
   ]
  },
  {
   "cell_type": "markdown",
   "metadata": {},
   "source": [
    "All points (except for Australia and Italy) shown on the map are based on geographic centroids, and are not representative of a specific address, building or any location at a spatial scale finer than a province/state. Australian and Italian dots are located at the centroid of the largest city in each state."
   ]
  },
  {
   "cell_type": "markdown",
   "metadata": {},
   "source": [
    "Combining the two to create a layered map:"
   ]
  },
  {
   "cell_type": "code",
   "execution_count": null,
   "metadata": {},
   "outputs": [],
   "source": [
    "base = world.plot(figsize=(20,12),color='white', edgecolor='black')\n",
    "gdf.plot(ax= base,color='red')"
   ]
  },
  {
   "cell_type": "markdown",
   "metadata": {},
   "source": [
    "What is interesting about this geoJSON file is that it is just points, based on relative (average) locations for the countries that gave given COVID data. \n",
    "HOPEFULLY, I can generate a similar map, but the points change by size based on `Cases` value with a bubble map / point plot of some sort: with help from [here](https://residentmario.github.io/geoplot/gallery/plot_usa_city_elevations.html)."
   ]
  },
  {
   "cell_type": "code",
   "execution_count": null,
   "metadata": {},
   "outputs": [],
   "source": [
    "gdf = gdf.dropna()\n",
    "gdf.head(10)"
   ]
  },
  {
   "cell_type": "code",
   "execution_count": null,
   "metadata": {},
   "outputs": [],
   "source": [
    "base = world.plot(figsize=(20,12),color='white', edgecolor='black')\n",
    "ax = base\n",
    "\n",
    "gdf.plot(ax=base, markersize = 'Country', color = 'red')"
   ]
  },
  {
   "cell_type": "markdown",
   "metadata": {},
   "source": [
    "# TO BE CONTINUED ......\n",
    "\n",
    "##### Below are charts and maps that I will continuously work on for the midterm. I recently found a geoJSON file that I will use fot base mapping and to build off of."
   ]
  },
  {
   "cell_type": "markdown",
   "metadata": {},
   "source": [
    "## More .csv. exploration"
   ]
  },
  {
   "cell_type": "markdown",
   "metadata": {},
   "source": [
    "Below is a possible different dataframe I found, after the fact of doing everything above:"
   ]
  },
  {
   "cell_type": "code",
   "execution_count": null,
   "metadata": {},
   "outputs": [],
   "source": [
    "df = pd.read_csv('data/time_series_covid19_deaths_global.csv')"
   ]
  },
  {
   "cell_type": "code",
   "execution_count": null,
   "metadata": {},
   "outputs": [],
   "source": [
    "pd.set_option('display.max_columns', None)\n",
    "pd.set_option('display.max_rows', None)\n",
    "df.sample(20)"
   ]
  },
  {
   "cell_type": "code",
   "execution_count": null,
   "metadata": {},
   "outputs": [],
   "source": []
  }
 ],
 "metadata": {
  "kernelspec": {
   "display_name": "Python 3",
   "language": "python",
   "name": "python3"
  },
  "language_info": {
   "codemirror_mode": {
    "name": "ipython",
    "version": 3
   },
   "file_extension": ".py",
   "mimetype": "text/x-python",
   "name": "python",
   "nbconvert_exporter": "python",
   "pygments_lexer": "ipython3",
   "version": "3.8.5"
  },
  "toc": {
   "base_numbering": 1,
   "nav_menu": {},
   "number_sections": true,
   "sideBar": true,
   "skip_h1_title": false,
   "title_cell": "Table of Contents",
   "title_sidebar": "Contents",
   "toc_cell": false,
   "toc_position": {},
   "toc_section_display": true,
   "toc_window_display": false
  }
 },
 "nbformat": 4,
 "nbformat_minor": 4
}
